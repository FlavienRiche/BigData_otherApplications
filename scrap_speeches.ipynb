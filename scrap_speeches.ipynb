{
 "cells": [
  {
   "cell_type": "code",
   "execution_count": 1,
   "id": "d6b8e740",
   "metadata": {},
   "outputs": [],
   "source": [
    "import requests\n",
    "from bs4 import BeautifulSoup\n",
    "import pandas as pd\n",
    "from tqdm import tqdm"
   ]
  },
  {
   "cell_type": "code",
   "execution_count": 2,
   "id": "0c6c1a0d",
   "metadata": {},
   "outputs": [],
   "source": [
    "def contains_number(string):\n",
    "    return any(char.isdigit() for char in string)"
   ]
  },
  {
   "cell_type": "markdown",
   "id": "23fbe80f",
   "metadata": {},
   "source": [
    "# Text list"
   ]
  },
  {
   "cell_type": "code",
   "execution_count": 3,
   "id": "51840100",
   "metadata": {},
   "outputs": [],
   "source": [
    "### Extract the html webpage\n",
    "all_pages = []\n",
    "\n",
    "for i in range(0,25) :\n",
    "    try :\n",
    "        url = \"https://home.treasury.gov/news/press-releases/statements-remarks/secretary?title=&publication-start-date=&publication-end-date=&page=\" + str(i)\n",
    "        user_agent = \"Mozilla/5.0 (Macintosh; Intel Mac OS X 10_15_7) AppleWebKit/537.36 (KHTML, like Gecko) Chrome/105.0.0.0 Safari/537.36\"\n",
    "        headers = {'User-Agent': user_agent}\n",
    "        page = requests.get(url, headers=headers)\n",
    "        soup = BeautifulSoup(page.content, 'html.parser') \n",
    "\n",
    "        all_url = []\n",
    "        url_list = soup.find_all('a', href=True)\n",
    "        for i in url_list :\n",
    "            if \"/news/press-releases/\" in i.get(\"href\") :\n",
    "                all_url.append(i.get(\"href\"))\n",
    "        all_pages = all_pages + all_url\n",
    "    except: \n",
    "        print(\"exception page \", str(i))"
   ]
  },
  {
   "cell_type": "code",
   "execution_count": 4,
   "id": "3e9edcba",
   "metadata": {},
   "outputs": [],
   "source": [
    "all_pages_clean = []\n",
    "for i in all_pages :\n",
    "    if contains_number(i) == True:\n",
    "        all_pages_clean.append(i)"
   ]
  },
  {
   "cell_type": "code",
   "execution_count": 5,
   "id": "bf58e595",
   "metadata": {},
   "outputs": [],
   "source": [
    "def contains_number(string):\n",
    "    return any(char.isdigit() for char in string)"
   ]
  },
  {
   "cell_type": "markdown",
   "id": "dde9c063",
   "metadata": {},
   "source": [
    "# Text and dates extraction"
   ]
  },
  {
   "cell_type": "code",
   "execution_count": 6,
   "id": "277e7302",
   "metadata": {},
   "outputs": [],
   "source": [
    "def get_title(soup) :\n",
    "    title = soup.find_all(\"h2\", class_ = None)\n",
    "    for k in title :\n",
    "        if k.find(\"span\") != None :\n",
    "            text = k.find(\"span\")\n",
    "            text = text.text\n",
    "    return text\n",
    "\n",
    "def get_text(soup) :\n",
    "    text_list = soup.find_all(\"p\", class_= None)\n",
    "    text = \"\"\n",
    "    for i in text_list :\n",
    "        if len(i.text) > 150 :\n",
    "            text = text + i.text\n",
    "    return text\n",
    "\n",
    "def get_date(soup) :\n",
    "    date = soup.find_all(\"time\")\n",
    "    return date[-1].text"
   ]
  },
  {
   "cell_type": "code",
   "execution_count": 7,
   "id": "b658ac54",
   "metadata": {},
   "outputs": [
    {
     "name": "stderr",
     "output_type": "stream",
     "text": [
      "100%|█████████████████████████████████████████| 400/400 [02:35<00:00,  2.57it/s]\n"
     ]
    }
   ],
   "source": [
    "all_title = []\n",
    "all_text = []\n",
    "all_date = []\n",
    "\n",
    "for i in tqdm(all_pages_clean) :\n",
    "    domain = \"https://home.treasury.gov\" \n",
    "    url = domain + i\n",
    "    user_agent = \"Mozilla/5.0 (Macintosh; Intel Mac OS X 10_15_7) AppleWebKit/537.36 (KHTML, like Gecko) Chrome/105.0.0.0 Safari/537.36\"\n",
    "    headers = {'User-Agent': user_agent}\n",
    "    page = requests.get(url, headers=headers)\n",
    "    soup = BeautifulSoup(page.content, 'html.parser') \n",
    "    \n",
    "    try :\n",
    "        all_title.append(get_title(soup))\n",
    "    except :\n",
    "        all_title.append(\"\")\n",
    "        \n",
    "    try :\n",
    "        all_text.append(get_text(soup))\n",
    "    except :\n",
    "        all_text.append(\"\")\n",
    "        \n",
    "    try :\n",
    "        all_date.append(get_date(soup))\n",
    "    except :\n",
    "        all_date.append(\"\")"
   ]
  },
  {
   "cell_type": "code",
   "execution_count": 8,
   "id": "8bf48749",
   "metadata": {},
   "outputs": [],
   "source": [
    "data = pd.DataFrame(data = {\n",
    "    \"title\" : all_title, \n",
    "    \"date\" : all_date, \n",
    "    \"text\" : all_text\n",
    "})\n",
    "data.to_csv(\"/Users/flav/Documents/Cours/BigData2_BDSE/speeches.csv\")"
   ]
  },
  {
   "cell_type": "code",
   "execution_count": 9,
   "id": "f17e2707",
   "metadata": {},
   "outputs": [
    {
     "data": {
      "text/html": [
       "<div>\n",
       "<style scoped>\n",
       "    .dataframe tbody tr th:only-of-type {\n",
       "        vertical-align: middle;\n",
       "    }\n",
       "\n",
       "    .dataframe tbody tr th {\n",
       "        vertical-align: top;\n",
       "    }\n",
       "\n",
       "    .dataframe thead th {\n",
       "        text-align: right;\n",
       "    }\n",
       "</style>\n",
       "<table border=\"1\" class=\"dataframe\">\n",
       "  <thead>\n",
       "    <tr style=\"text-align: right;\">\n",
       "      <th></th>\n",
       "      <th>title</th>\n",
       "      <th>date</th>\n",
       "      <th>text</th>\n",
       "    </tr>\n",
       "  </thead>\n",
       "  <tbody>\n",
       "    <tr>\n",
       "      <th>0</th>\n",
       "      <td></td>\n",
       "      <td>November 27, 2023</td>\n",
       "      <td>WASHINGTON – From November 26 – December 1, Un...</td>\n",
       "    </tr>\n",
       "    <tr>\n",
       "      <th>1</th>\n",
       "      <td></td>\n",
       "      <td>November 22, 2023</td>\n",
       "      <td>WASHINGTON – The U.S. Department of the Treasu...</td>\n",
       "    </tr>\n",
       "    <tr>\n",
       "      <th>2</th>\n",
       "      <td></td>\n",
       "      <td>November 21, 2023</td>\n",
       "      <td>WASHINGTON — The U.S. Department of the Treasu...</td>\n",
       "    </tr>\n",
       "    <tr>\n",
       "      <th>3</th>\n",
       "      <td></td>\n",
       "      <td>November 21, 2023</td>\n",
       "      <td></td>\n",
       "    </tr>\n",
       "    <tr>\n",
       "      <th>4</th>\n",
       "      <td></td>\n",
       "      <td>November 17, 2023</td>\n",
       "      <td>Good afternoon. My name is Graham Steele, and ...</td>\n",
       "    </tr>\n",
       "    <tr>\n",
       "      <th>...</th>\n",
       "      <td>...</td>\n",
       "      <td>...</td>\n",
       "      <td>...</td>\n",
       "    </tr>\n",
       "    <tr>\n",
       "      <th>395</th>\n",
       "      <td></td>\n",
       "      <td>December 1, 2020</td>\n",
       "      <td>Chairwoman Waters, Ranking Member McHenry, and...</td>\n",
       "    </tr>\n",
       "    <tr>\n",
       "      <th>396</th>\n",
       "      <td></td>\n",
       "      <td>November 30, 2020</td>\n",
       "      <td>Good evening. It is my distinct honor to be he...</td>\n",
       "    </tr>\n",
       "    <tr>\n",
       "      <th>397</th>\n",
       "      <td></td>\n",
       "      <td>October 29, 2020</td>\n",
       "      <td>WASHINGTON – U.S. Treasury Secretary Steven T....</td>\n",
       "    </tr>\n",
       "    <tr>\n",
       "      <th>398</th>\n",
       "      <td></td>\n",
       "      <td>October 14, 2020</td>\n",
       "      <td>WASHINGTON – As we begin the Annual Meetings o...</td>\n",
       "    </tr>\n",
       "    <tr>\n",
       "      <th>399</th>\n",
       "      <td></td>\n",
       "      <td>October 11, 2020</td>\n",
       "      <td>\\nWhen COVID-19 forced President Trump to shut...</td>\n",
       "    </tr>\n",
       "  </tbody>\n",
       "</table>\n",
       "<p>400 rows × 3 columns</p>\n",
       "</div>"
      ],
      "text/plain": [
       "    title               date  \\\n",
       "0          November 27, 2023   \n",
       "1          November 22, 2023   \n",
       "2          November 21, 2023   \n",
       "3          November 21, 2023   \n",
       "4          November 17, 2023   \n",
       "..    ...                ...   \n",
       "395         December 1, 2020   \n",
       "396        November 30, 2020   \n",
       "397         October 29, 2020   \n",
       "398         October 14, 2020   \n",
       "399         October 11, 2020   \n",
       "\n",
       "                                                  text  \n",
       "0    WASHINGTON – From November 26 – December 1, Un...  \n",
       "1    WASHINGTON – The U.S. Department of the Treasu...  \n",
       "2    WASHINGTON — The U.S. Department of the Treasu...  \n",
       "3                                                       \n",
       "4    Good afternoon. My name is Graham Steele, and ...  \n",
       "..                                                 ...  \n",
       "395  Chairwoman Waters, Ranking Member McHenry, and...  \n",
       "396  Good evening. It is my distinct honor to be he...  \n",
       "397  WASHINGTON – U.S. Treasury Secretary Steven T....  \n",
       "398  WASHINGTON – As we begin the Annual Meetings o...  \n",
       "399  \\nWhen COVID-19 forced President Trump to shut...  \n",
       "\n",
       "[400 rows x 3 columns]"
      ]
     },
     "execution_count": 9,
     "metadata": {},
     "output_type": "execute_result"
    }
   ],
   "source": [
    "data"
   ]
  },
  {
   "cell_type": "code",
   "execution_count": null,
   "id": "1ad48797",
   "metadata": {},
   "outputs": [],
   "source": []
  }
 ],
 "metadata": {
  "kernelspec": {
   "display_name": "Python 3 (ipykernel)",
   "language": "python",
   "name": "python3"
  },
  "language_info": {
   "codemirror_mode": {
    "name": "ipython",
    "version": 3
   },
   "file_extension": ".py",
   "mimetype": "text/x-python",
   "name": "python",
   "nbconvert_exporter": "python",
   "pygments_lexer": "ipython3",
   "version": "3.9.12"
  }
 },
 "nbformat": 4,
 "nbformat_minor": 5
}
